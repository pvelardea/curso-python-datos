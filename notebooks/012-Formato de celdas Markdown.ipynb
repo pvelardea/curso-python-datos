{
 "cells": [
  {
   "cell_type": "markdown",
   "metadata": {},
   "source": [
    "# Formato de celdas Markdown"
   ]
  },
  {
   "cell_type": "markdown",
   "metadata": {},
   "source": [
    "## Cuaderno Jupyter (ipynb)"
   ]
  },
  {
   "cell_type": "markdown",
   "metadata": {},
   "source": [
    "Los cuadernos Jupyter son documentos interactivos que contienen código, explicaciones y gráficos. Son un espacio excelente para experimentar con código y datos. Los cuadernos se comparten fácilmente, y los [4M de cuadernos](https://github.com/parente/nbestimate) en GitHub nos dicen lo populares que son.\n",
    "\n",
    "Los cuadernos Jupyter son documentos [JSON](https://en.wikipedia.org/wiki/JSON) que contienen texto, código fuente, salida de medios enriquecidos y metadatos.\n"
   ]
  },
  {
   "cell_type": "markdown",
   "metadata": {},
   "source": [
    "El cuaderno se divide en __celdas__ que pueden ser de __texto__ o de __código__ de programación (estas últimas se etiquetan con el simbolo `In :` a la izquierda. Cuando se ejecutan, aparece un número entre los corchetes que identifica a esa celda).\n",
    "\n",
    "<img src=\"..\\images\\jupyter-notebook4.png\" style=\"width: 800px;\"/>"
   ]
  },
  {
   "cell_type": "markdown",
   "metadata": {},
   "source": [
    "#### Abrir el cuaderno 000-Demo Nature"
   ]
  },
  {
   "cell_type": "markdown",
   "metadata": {},
   "source": [
    "### Modificar celdas\n",
    "Para modificar un texto se da `doble-click` sobre la celda. Una vez terminada la modificación se da clic fuera de la celda"
   ]
  },
  {
   "cell_type": "markdown",
   "metadata": {},
   "source": [
    "### Ejecutar una celda\n",
    "\n",
    "Para ejecutar una celda y ver el resultado del código o texto, se presiona `Shift+Enter` o `CTRL+Enter`. También se puede presionar el botón `Run` de la barra superior"
   ]
  },
  {
   "cell_type": "markdown",
   "metadata": {},
   "source": [
    "### Salvar cuaderno\n",
    "\n",
    "El programa IPython Notebook posee una función de autosalvado cada par de minutos, por lo que no es necesario salvar el documento. Aun así, hay un botón para guardar manualmente.\n"
   ]
  },
  {
   "cell_type": "markdown",
   "metadata": {},
   "source": [
    "### Cerrar cuaderno\n",
    "\n",
    "Para cerrar el documento de forma limpia (sin dejar procesos en segundo plano corriendo), se da clic en la opción `Close and halt` dentro del menú `File`"
   ]
  },
  {
   "cell_type": "markdown",
   "metadata": {},
   "source": [
    "### Referencias\n",
    "1. [Introducing Jupytext](https://towardsdatascience.com/introducing-jupytext-9234fdff6c57)\n",
    "2. [Markdown for Jupyter notebooks cheatsheet](https://medium.com/ibm-data-science-experience/markdown-for-jupyter-notebooks-cheatsheet-386c05aeebed)\n",
    "2. [Manual de uso de los documentos interactivos](https://share.cocalc.com/share/f0dd4e169c527b5c15e37086b3e29ae40bdd5056/ManualDeUsoNotebooks.ipynb)"
   ]
  },
  {
   "cell_type": "code",
   "execution_count": null,
   "metadata": {},
   "outputs": [],
   "source": []
  }
 ],
 "metadata": {
  "kernelspec": {
   "display_name": "Python 3",
   "language": "python",
   "name": "python3"
  },
  "language_info": {
   "codemirror_mode": {
    "name": "ipython",
    "version": 3
   },
   "file_extension": ".py",
   "mimetype": "text/x-python",
   "name": "python",
   "nbconvert_exporter": "python",
   "pygments_lexer": "ipython3",
   "version": "3.7.3"
  }
 },
 "nbformat": 4,
 "nbformat_minor": 2
}
