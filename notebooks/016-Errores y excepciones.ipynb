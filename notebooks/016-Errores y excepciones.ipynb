{
 "cells": [
  {
   "cell_type": "markdown",
   "metadata": {},
   "source": [
    "# Errores y excepciones"
   ]
  },
  {
   "cell_type": "markdown",
   "metadata": {},
   "source": [
    "Es muy común encontrar errores durante la ejecución de un programa. Dos tipos comunes de errores son los <font color='red'>__errores de sintaxis__</font> y las <font color='red'>__excepciones__</font>.\n",
    "\n",
    "### Errores de sintaxis\n",
    "Los errores de sintaxis ocurren cuando se teclea el código incorrectamente. En tales casos, la línea errónea es repetida por el analizador con una flecha apuntando a la primera ubicación en donde el error fue detectado.\n",
    "\n",
    "__Ejemplo__"
   ]
  },
  {
   "cell_type": "code",
   "execution_count": null,
   "metadata": {},
   "outputs": [],
   "source": [
    "print hola"
   ]
  },
  {
   "cell_type": "markdown",
   "metadata": {},
   "source": [
    "### Excepciones\n",
    "Las excepciones son errores lógicos que detienen la ejecución del programa aún cuando la sintaxis del código sea correcta.\n",
    "\n",
    "A continuación algunas excepciones básicas:\n",
    "\n",
    "* `NameError`: Se lanza cuando no se encuentra un nombre local o global.\n",
    "* `TypeError`: Se lanza cuando una operación o función interna se aplica a un objeto de tipo inadecuado.\n",
    "* `ValueError`: Esta excepción se presenta cuando un argumento de función tiene el tipo correcto pero un valor inapropiado.\n",
    "*  `ZeroDivisionError`: Se lanza cuando el segundo argumento de una operación de división o módulo es cero. \n",
    "* `MemoryError`: Se lanza cuando una operación agota la memoria pero aún se puede salvar la situación (borrando objetos).\n",
    "\n",
    "https://entrenamiento-python-basico.readthedocs.io/es/latest/leccion9/exceptions.html\n",
    "\n",
    "#### Ejemplos"
   ]
  },
  {
   "cell_type": "code",
   "execution_count": null,
   "metadata": {},
   "outputs": [],
   "source": [
    "10 * (1/0)"
   ]
  },
  {
   "cell_type": "code",
   "execution_count": null,
   "metadata": {},
   "outputs": [],
   "source": [
    "4 + spam*3"
   ]
  },
  {
   "cell_type": "code",
   "execution_count": null,
   "metadata": {},
   "outputs": [],
   "source": [
    "'2' + 2"
   ]
  },
  {
   "cell_type": "markdown",
   "metadata": {},
   "source": [
    "#### Otros ejemplos"
   ]
  },
  {
   "cell_type": "code",
   "execution_count": null,
   "metadata": {},
   "outputs": [],
   "source": [
    "# This code has an intentional error. You can type it directly or\n",
    "# use it for reference to understand the error message below.\n",
    "def favorite_ice_cream():\n",
    "    ice_creams = [\n",
    "        \"chocolate\",\n",
    "        \"vanilla\",\n",
    "        \"strawberry\"\n",
    "    ]\n",
    "    print(ice_creams[3])\n",
    "\n",
    "favorite_ice_cream()"
   ]
  },
  {
   "cell_type": "markdown",
   "metadata": {},
   "source": [
    "La parte anterior del mensaje de error muestra el contexto donde la excepción sucedió, en la forma de un trazado del error listando líneas fuente"
   ]
  },
  {
   "cell_type": "code",
   "execution_count": null,
   "metadata": {},
   "outputs": [],
   "source": [
    "# Syntax error\n",
    "def some_function()\n",
    "    msg = \"hello, world!\"\n",
    "    print(msg)\n",
    "     return msg"
   ]
  },
  {
   "cell_type": "code",
   "execution_count": null,
   "metadata": {},
   "outputs": [],
   "source": [
    "# Indentation Error\n",
    "def some_function():\n",
    "    msg = \"hello, world!\"\n",
    "    print(msg)\n",
    "     return msg"
   ]
  },
  {
   "cell_type": "code",
   "execution_count": null,
   "metadata": {},
   "outputs": [],
   "source": [
    "# Tab Error\n",
    "def some_function():\n",
    "\tmsg = \"hello, world!\"\n",
    "\tprint(msg)\n",
    "    return msg"
   ]
  },
  {
   "cell_type": "code",
   "execution_count": null,
   "metadata": {},
   "outputs": [],
   "source": [
    "# Not defined\n",
    "for number in range(10):\n",
    "    count = count + number\n",
    "print(\"The count is:\", count)"
   ]
  },
  {
   "cell_type": "code",
   "execution_count": null,
   "metadata": {},
   "outputs": [],
   "source": [
    "# File Error\n",
    "file_handle = open('myfile.txt', 'r')"
   ]
  },
  {
   "cell_type": "markdown",
   "metadata": {},
   "source": [
    "## Tratamiento de errores. Sentencia try-except"
   ]
  },
  {
   "cell_type": "markdown",
   "metadata": {},
   "source": [
    "Cuando ocurre un error, Python detiene la ejecución y devuelve una excepción, que es una señal que ha occurrido un funcionamiento no esperado o error en el programa, indicando aproximadamente qué fue lo que ocurrió.\n",
    "\n",
    "Suponer un pequeño script (_error.py_) que por algún motivo realiza una división por cero."
   ]
  },
  {
   "cell_type": "markdown",
   "metadata": {},
   "source": [
    "<div class=\"alert alert-info\"><strong></strong>\n",
    "\"\"\"\n",
    "Created on Thu Jun 13 11:54:51 2019\n",
    "\n",
    "@author: pvelarde<br>\n",
    "\"\"\"\n",
    "a, b = 20, 0\n",
    "\n",
    "resultado = a/b\n",
    "\n",
    "print(resultado)\n",
    "</div>"
   ]
  },
  {
   "cell_type": "markdown",
   "metadata": {},
   "source": [
    "Al ejecutarlo\n",
    "<img src=\"../images/error1.png\" style=\"width: 600px;\"/>"
   ]
  },
  {
   "cell_type": "markdown",
   "metadata": {},
   "source": [
    "%reset -f\n"
   ]
  },
  {
   "cell_type": "code",
   "execution_count": null,
   "metadata": {},
   "outputs": [],
   "source": [
    "%run ..\\scripts\\error.py\n"
   ]
  },
  {
   "cell_type": "markdown",
   "metadata": {},
   "source": [
    "En este ejemplo, el origen del error es fácil de identificar y el intérprete indica la línea en que ocurre. Si el programa es más complejo es posible que error se propague por varias partes del programa y no sea tan evidente encontrar el origen, pero el trazado del error (_traceback_) que da el intérprete muestra el camino que siguió el código que finalmente produjo el error.\n",
    "\n",
    "Suponer que un programa como el anterior, pero en el que el cálculo se hace en varios pasos:"
   ]
  },
  {
   "cell_type": "code",
   "execution_count": null,
   "metadata": {},
   "outputs": [],
   "source": [
    "%run ..\\scripts\\error2.py"
   ]
  },
  {
   "cell_type": "markdown",
   "metadata": {},
   "source": [
    "Al ejecutarlo en consola:\n",
    "<img src=\"../images/error2.png\" style=\"width: 600px;\"/>"
   ]
  }
 ],
 "metadata": {
  "kernelspec": {
   "display_name": "Python 3",
   "language": "python",
   "name": "python3"
  },
  "language_info": {
   "codemirror_mode": {
    "name": "ipython",
    "version": 3
   },
   "file_extension": ".py",
   "mimetype": "text/x-python",
   "name": "python",
   "nbconvert_exporter": "python",
   "pygments_lexer": "ipython3",
   "version": "3.7.3"
  },
  "widgets": {
   "state": {},
   "version": "1.1.2"
  }
 },
 "nbformat": 4,
 "nbformat_minor": 2
}
