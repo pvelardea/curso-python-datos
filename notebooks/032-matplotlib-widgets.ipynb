{
 "cells": [
  {
   "cell_type": "markdown",
   "metadata": {},
   "source": [
    "# Componentes interactivos\n",
    "\n",
    "matplotlip posee dentro de sí la librería WIDGETS que permite crear controles de usuario básico controles de interfaz de usuario como por ejemplo botones ,checkbuttons, menus, etc.\n"
   ]
  },
  {
   "cell_type": "markdown",
   "metadata": {},
   "source": [
    "**Ejercicio**\n",
    "\n",
    "Crear una función que represente gráficamente esta expresión:\n",
    "\n",
    "$$\\sin(2 \\pi f_1 t) + \\sin(2 \\pi f_2 t)$$\n",
    "\n",
    "Siendo $f_1$ y $f_2$ argumentos de entrada (por defecto $10$ y $100$) y $t \\in [0, 0.5]$. Además, debe mostrar:\n",
    "\n",
    "* leyenda,\n",
    "* título \"Dos frecuencias\",\n",
    "* eje x \"Tiempo ($t$)\"\n",
    "\n",
    "y usar algún estilo de los disponibles."
   ]
  },
  {
   "cell_type": "code",
   "execution_count": null,
   "metadata": {},
   "outputs": [],
   "source": [
    "%matplotlib inline\n",
    "import numpy as np\n",
    "import matplotlib.pyplot as plt"
   ]
  },
  {
   "cell_type": "code",
   "execution_count": null,
   "metadata": {},
   "outputs": [],
   "source": [
    "def frecuencias(f1=10.0, f2=100.0):\n",
    "    max_time = 0.5\n",
    "    times = np.linspace(0, max_time, 1000)\n",
    "    signal = np.sin(2 * np.pi * f1 * times) + np.sin(2 * np.pi * f2 * times)\n",
    "    with plt.style.context(\"ggplot\"):\n",
    "        plt.plot(signal, label=\"Señal\")\n",
    "        plt.xlabel(\"Tiempo ($t$)\")\n",
    "        plt.title(\"Dos frecuencias\")\n",
    "        plt.legend()\n",
    "        plt.show()\n",
    "\n",
    "frecuencias()"
   ]
  },
  {
   "cell_type": "code",
   "execution_count": null,
   "metadata": {},
   "outputs": [],
   "source": [
    "from ipywidgets import interactive\n",
    "\n",
    "interactive(frecuencias, f1=(10.0,200.0), f2=(10.0,200.0))"
   ]
  }
 ],
 "metadata": {
  "anaconda-cloud": {},
  "kernelspec": {
   "display_name": "Python 3",
   "language": "python",
   "name": "python3"
  },
  "language_info": {
   "codemirror_mode": {
    "name": "ipython",
    "version": 3
   },
   "file_extension": ".py",
   "mimetype": "text/x-python",
   "name": "python",
   "nbconvert_exporter": "python",
   "pygments_lexer": "ipython3",
   "version": "3.7.3"
  },
  "widgets": {
   "state": {
    "ec2388e993b14b58b32f86f639d57469": {
     "views": [
      {
       "cell_index": 5
      }
     ]
    }
   },
   "version": "1.2.0"
  }
 },
 "nbformat": 4,
 "nbformat_minor": 1
}
