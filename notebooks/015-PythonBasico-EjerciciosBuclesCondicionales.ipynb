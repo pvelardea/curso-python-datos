{
 "cells": [
  {
   "cell_type": "markdown",
   "metadata": {},
   "source": [
    "# Ejercicios bucles y condicionales"
   ]
  },
  {
   "cell_type": "markdown",
   "metadata": {},
   "source": [
    "## Ejercicio 1: Sumatoria"
   ]
  },
  {
   "cell_type": "markdown",
   "metadata": {},
   "source": [
    "Escribir una función que sume los `n` primeros números naturales. Observar que se puede escribir una **cadena de documentación** (_docstring_) debajo de la definición de la función para explicar lo que hace la función."
   ]
  },
  {
   "cell_type": "code",
   "execution_count": null,
   "metadata": {},
   "outputs": [],
   "source": [
    "def sumatorio(num):\n",
    "    \"\"\"Suma los `num` primeros números.\n",
    "\n",
    "    Ejemplos\n",
    "    --------\n",
    "    >>> sumatorio(4)\n",
    "    10\n",
    "\n",
    "    \"\"\"\n",
    "    suma = 0\n",
    "    for n in range(1, num + 1):\n",
    "        suma = n + suma\n",
    "    return suma"
   ]
  },
  {
   "cell_type": "markdown",
   "metadata": {},
   "source": [
    "Se inicializa el valor de la suma a 0 para ir acumulando en ella los `num` primeros números naturales."
   ]
  },
  {
   "cell_type": "code",
   "execution_count": null,
   "metadata": {},
   "outputs": [],
   "source": [
    "sumatorio(4)"
   ]
  },
  {
   "cell_type": "code",
   "execution_count": null,
   "metadata": {},
   "outputs": [],
   "source": [
    "help(sumatorio)"
   ]
  },
  {
   "cell_type": "markdown",
   "metadata": {},
   "source": [
    "<div class=\"alert alert-warning\">Observar lo que sucede si no se inicializa la suma:</div>"
   ]
  },
  {
   "cell_type": "code",
   "execution_count": null,
   "metadata": {},
   "outputs": [],
   "source": [
    "def sumatorio_mal(num):\n",
    "    for nn in range(1, num + 1):\n",
    "        suma = nn + suma\n",
    "    return suma"
   ]
  },
  {
   "cell_type": "code",
   "execution_count": null,
   "metadata": {},
   "outputs": [],
   "source": [
    "sumatorio_mal(4)"
   ]
  },
  {
   "cell_type": "markdown",
   "metadata": {},
   "source": [
    "Para verificar si el resultado es correcto, se puede utilizar la función `sum` de Python, que suma los elementos que le pasen:"
   ]
  },
  {
   "cell_type": "code",
   "execution_count": null,
   "metadata": {},
   "outputs": [],
   "source": [
    "list(range(1, 4 + 1))"
   ]
  },
  {
   "cell_type": "code",
   "execution_count": null,
   "metadata": {},
   "outputs": [],
   "source": [
    "sum(range(1, 4 + 1))"
   ]
  },
  {
   "cell_type": "markdown",
   "metadata": {},
   "source": [
    "## Ejercicio 2: Sumatoria con límite superior"
   ]
  },
  {
   "cell_type": "markdown",
   "metadata": {},
   "source": [
    "Escribir una función que sume números naturales consecutivos y la suma no debe ser mayor a un límite. Además, debe mostrar el valor de la suma."
   ]
  },
  {
   "cell_type": "code",
   "execution_count": null,
   "metadata": {},
   "outputs": [],
   "source": [
    "def suma_lim(lim):\n",
    "    \"\"\"Suma números naturales consecutivos hasta un limite.\n",
    "\n",
    "    \"\"\"\n",
    "    suma = 0\n",
    "    nn = 1\n",
    "    while suma + nn <= lim:\n",
    "        suma = suma + nn\n",
    "        nn += 1\n",
    "    return suma"
   ]
  },
  {
   "cell_type": "code",
   "execution_count": null,
   "metadata": {},
   "outputs": [],
   "source": [
    "suma_lim(9)"
   ]
  },
  {
   "cell_type": "code",
   "execution_count": null,
   "metadata": {},
   "outputs": [],
   "source": [
    "suma_lim(9) == 1 + 2 + 3"
   ]
  },
  {
   "cell_type": "code",
   "execution_count": null,
   "metadata": {},
   "outputs": [],
   "source": [
    "suma_lim(10) == 1 + 2 + 3 + 4"
   ]
  },
  {
   "cell_type": "markdown",
   "metadata": {},
   "source": [
    "La palabra clave `assert` recibe una expresión verdadera o falsa, y falla si es falsa. Si es verdadera no hace nada, con lo cual es perfecto para hacer comprobaciones a mitad del código que no estorben mucho."
   ]
  },
  {
   "cell_type": "code",
   "execution_count": null,
   "metadata": {},
   "outputs": [],
   "source": [
    "assert suma_lim(11) == 1 + 2 + 3 + 4"
   ]
  },
  {
   "cell_type": "code",
   "execution_count": null,
   "metadata": {},
   "outputs": [],
   "source": [
    "assert suma_lim(10 + 5) == 1 + 2 + 3 + 4"
   ]
  },
  {
   "cell_type": "markdown",
   "metadata": {},
   "source": [
    "## Ejercicio 3: Normativa de exámenes"
   ]
  },
  {
   "cell_type": "markdown",
   "metadata": {},
   "source": [
    "La normativa de exámenes es: *\"si un examen dura más de 3 horas, entonces debe tener un descanso\"*. Los argumentos de la función son el tiempo en horas y un valor `True` o `False` que indica si hay descanso o no."
   ]
  },
  {
   "cell_type": "code",
   "execution_count": null,
   "metadata": {},
   "outputs": [],
   "source": [
    "def cumple_normativa(tiempo, descanso):\n",
    "    \"\"\"Comprueba si un examen cumple la normativa de la UPM.\n",
    "\n",
    "    \"\"\"\n",
    "    if tiempo <= 3:\n",
    "        return True\n",
    "    else:\n",
    "        #if descanso:\n",
    "        #    return True\n",
    "        #else:\n",
    "        #    return False\n",
    "        return descanso  # ¡Equivalente!"
   ]
  },
  {
   "cell_type": "code",
   "execution_count": null,
   "metadata": {},
   "outputs": [],
   "source": [
    "cumple_normativa(2, False)"
   ]
  },
  {
   "cell_type": "code",
   "execution_count": null,
   "metadata": {},
   "outputs": [],
   "source": [
    "if not cumple_normativa(5, descanso=False):\n",
    "    print(\"¡Habla con DA!\")"
   ]
  },
  {
   "cell_type": "markdown",
   "metadata": {},
   "source": [
    "## Ejercicio 4"
   ]
  },
  {
   "cell_type": "markdown",
   "metadata": {},
   "source": [
    "Hallar $x = \\sqrt{S}$.\n",
    "\n",
    "1. $\\displaystyle \\tilde{x} \\leftarrow \\frac{S}{2}$.\n",
    "2. $\\displaystyle \\tilde{x} \\leftarrow \\frac{1}{2}\\left(\\tilde{x} + \\frac{S}{\\tilde{x}}\\right)$.\n",
    "3. Repetir (2) hasta que se alcance un límite de iteraciones o un criterio de convergencia.\n",
    "\n",
    "http://en.wikipedia.org/wiki/Methods_of_computing_square_roots#Babylonian_method"
   ]
  },
  {
   "cell_type": "code",
   "execution_count": null,
   "metadata": {},
   "outputs": [],
   "source": [
    "def raiz(S):\n",
    "    x = S / 2\n",
    "    while True:\n",
    "        temp = x\n",
    "        x = (x + S / x) / 2\n",
    "        if temp == x:\n",
    "            return x"
   ]
  },
  {
   "cell_type": "markdown",
   "metadata": {},
   "source": [
    "Se utiliza una característica de la aritmética en punto flotante: como la convergencia se alcanza rápidamente, llega un momento en que el error es menor que la precisión de la máquina y el valor no cambia de una iteración a otra."
   ]
  },
  {
   "cell_type": "code",
   "execution_count": null,
   "metadata": {},
   "outputs": [],
   "source": [
    "raiz(10)"
   ]
  },
  {
   "cell_type": "markdown",
   "metadata": {},
   "source": [
    "<div class=\"alert alert-info\">Se deja como ejercicio implementar otras condiciones de convergencia: error relativo por debajo de un umbral o número máximo de iteraciones.</div>"
   ]
  },
  {
   "cell_type": "code",
   "execution_count": null,
   "metadata": {},
   "outputs": [],
   "source": [
    "import math\n",
    "math.sqrt(10)"
   ]
  },
  {
   "cell_type": "code",
   "execution_count": null,
   "metadata": {},
   "outputs": [],
   "source": [
    "raiz(10) ** 2"
   ]
  },
  {
   "cell_type": "code",
   "execution_count": null,
   "metadata": {},
   "outputs": [],
   "source": [
    "math.sqrt(10) ** 2"
   ]
  },
  {
   "cell_type": "markdown",
   "metadata": {},
   "source": [
    "Sobre aritmética de punto flotante: http://puntoflotante.org/"
   ]
  },
  {
   "cell_type": "markdown",
   "metadata": {},
   "source": [
    "## Ejercicio 5"
   ]
  },
  {
   "cell_type": "markdown",
   "metadata": {},
   "source": [
    "Secuencia de Fibonacci: $F_n = F_{n - 1} + F_{n - 2}$, con $F_0 = 0$ y $F_1 = 1$.\n",
    "\n",
    "$$0, 1, 1, 2, 3, 5, 8, 13, 21, 34, 55, ...$$"
   ]
  },
  {
   "cell_type": "markdown",
   "metadata": {},
   "source": [
    "Con iteración:"
   ]
  },
  {
   "cell_type": "code",
   "execution_count": null,
   "metadata": {},
   "outputs": [],
   "source": [
    "def fib(n):\n",
    "    a, b = 0, 1\n",
    "    for i in range(n):\n",
    "        a, b = b, a + b  # Bendita asignación múltiple\n",
    "    return a"
   ]
  },
  {
   "cell_type": "code",
   "execution_count": null,
   "metadata": {},
   "outputs": [],
   "source": [
    "fib(0), fib(3), fib(10)"
   ]
  },
  {
   "cell_type": "markdown",
   "metadata": {},
   "source": [
    "Con recursión:"
   ]
  },
  {
   "cell_type": "code",
   "execution_count": null,
   "metadata": {},
   "outputs": [],
   "source": [
    "def fib_recursivo(n):\n",
    "    if n == 0:\n",
    "        res = 0\n",
    "    elif n == 1:\n",
    "        res = 1\n",
    "    else:\n",
    "        res = fib_recursivo(n - 1) + fib_recursivo(n - 2)\n",
    "    return res"
   ]
  },
  {
   "cell_type": "markdown",
   "metadata": {},
   "source": [
    "Imprimir una lista con los $n$ primeros:"
   ]
  },
  {
   "cell_type": "code",
   "execution_count": null,
   "metadata": {},
   "outputs": [],
   "source": [
    "def n_primeros(n):\n",
    "    F = fib_recursivo\n",
    "    lista = []\n",
    "    for ii in range(n):\n",
    "        lista.append(F(ii))\n",
    "    return lista"
   ]
  },
  {
   "cell_type": "code",
   "execution_count": null,
   "metadata": {},
   "outputs": [],
   "source": [
    "n_primeros(10)"
   ]
  },
  {
   "cell_type": "markdown",
   "metadata": {},
   "source": [
    "## Ejericio 6 Ley d'Hondt "
   ]
  },
  {
   "cell_type": "markdown",
   "metadata": {},
   "source": [
    "Implementar el sistema de reparto de escaños d'Hondt. Dicho sistema se basa en ir repartiendo escaños consecutivamente al partido con el máximo coeficiente, $c_i = \\frac{V_i}{s_i + 1}$, donde $V_i$ es el número total de votos obtenidos por del partido $i$, mientras que $s_i$ es el número de escaños asignados dicho partido (0 al comenzar el reparto).\n",
    "\n",
    "Veamos por ejemplo el caso expuesto en [Wikipedia](https://es.wikipedia.org/wiki/Sistema_d'Hondt):\n",
    "\n",
    "| *Partido* | Partido A | Partido B | Partido C | Partido D | Partido E |\n",
    "|:----------|----------:|----------:|----------:|----------:|----------:|\n",
    "| *Votos*   | 340000    | 280000    | 160000    | 60000     | 15000     |\n",
    "\n",
    "Todavía no hay ningún escaño asignado, así que los votos de cada partido se dividen por 1:\n",
    "\n",
    "| *Partido*  | Partido A  | Partido B  | Partido C  | Partido D  | Partido E  |\n",
    "|:-----------|-----------:|-----------:|-----------:|-----------:|-----------:|\n",
    "| *Votos*    | 340000     | 280000     | 160000     | 60000      | 15000      |\n",
    "| *Escaño 1* | **340000** | 280000     | 160000     | 60000      | 15000      |\n",
    "\n",
    "Y por tanto el partido A recibe el primer escaño. Para repartir el segundo escaño se vuelven a dividr por 1 los votos de cada partido, salvo el partido A que se divide por 2, pues ya tiene un escaño:\n",
    "\n",
    "| *Partido*  | Partido A  | Partido B  | Partido C  | Partido D  | Partido E  |\n",
    "|:-----------|-----------:|-----------:|-----------:|-----------:|-----------:|\n",
    "| *Votos*    | 340000     | 280000     | 160000     | 60000      | 15000      |\n",
    "| *Escaño 1* | **340000** | 280000     | 160000     | 60000      | 15000      |\n",
    "| *Escaño 2* |   170000   | **280000** | 160000     | 60000      | 15000      |\n",
    "\n",
    "Así pues, el segundo escaño va para el partido B. Si se reparten 7 escaños como en el ejemplo de Wikpedia, la tabla final quedaría como sigue:\n",
    "\n",
    "| *Partido*  | Partido A  | Partido B  | Partido C  | Partido D  | Partido E  |\n",
    "|:-----------|-----------:|-----------:|-----------:|-----------:|-----------:|\n",
    "| *Votos*    | 340000     | 280000     | 160000     | 60000      | 15000      |\n",
    "| *Escaño 1* | **340000** | 280000     | 160000     | 60000      | 15000      |\n",
    "| *Escaño 2* |   170000   | **280000** | 160000     | 60000      | 15000      |\n",
    "| *Escaño 3* | **170000** |   140000   | 160000     | 60000      | 15000      |\n",
    "| *Escaño 4* |   113333   |   140000   | **160000** | 60000      | 15000      |\n",
    "| *Escaño 5* |   113333   | **140000** |  80000     | 60000      | 15000      |\n",
    "| *Escaño 6* | **170000** |   93333    |  80000     | 60000      | 15000      |\n",
    "| *Escaño 7* |   85000    | **93333**  |  80000     | 60000      | 15000      |\n",
    "\n",
    "Así que los partidos A y B obtendrían 3 escaños, mientras que el partido C obtendría 1 único escaño, quedando el resto de partidos fuera del proceso."
   ]
  },
  {
   "cell_type": "code",
   "execution_count": null,
   "metadata": {},
   "outputs": [],
   "source": [
    "def hondt(votos, n):\n",
    "    s = [0] * len(votos)\n",
    "    for i in range(n):\n",
    "        c = [v[j] / (s[j] + 1) for j in range(len(s))]\n",
    "        s[c.index(max(c))] += 1\n",
    "    return s"
   ]
  },
  {
   "cell_type": "code",
   "execution_count": null,
   "metadata": {},
   "outputs": [],
   "source": [
    "v = [340000, 280000, 160000, 60000, 15000]\n",
    "n = 7\n",
    "hondt(v, n)"
   ]
  }
 ],
 "metadata": {
  "anaconda-cloud": {},
  "kernelspec": {
   "display_name": "Python 3",
   "language": "python",
   "name": "python3"
  },
  "language_info": {
   "codemirror_mode": {
    "name": "ipython",
    "version": 3
   },
   "file_extension": ".py",
   "mimetype": "text/x-python",
   "name": "python",
   "nbconvert_exporter": "python",
   "pygments_lexer": "ipython3",
   "version": "3.7.3"
  }
 },
 "nbformat": 4,
 "nbformat_minor": 1
}
